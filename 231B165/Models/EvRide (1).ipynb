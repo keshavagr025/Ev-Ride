{
 "cells": [
  {
   "cell_type": "code",
   "execution_count": null,
   "id": "ea5078e9-a47b-4f62-b270-ffe2d6763e48",
   "metadata": {},
   "outputs": [],
   "source": [
    "import pandas as pd"
   ]
  },
  {
   "cell_type": "markdown",
   "id": "ddcc23c8",
   "metadata": {},
   "source": []
  },
  {
   "cell_type": "code",
   "execution_count": null,
   "id": "fde4d2db-954d-4417-b25a-881db64e3369",
   "metadata": {},
   "outputs": [],
   "source": [
    "import numpy as np"
   ]
  },
  {
   "cell_type": "code",
   "execution_count": null,
   "id": "f85970f5-0559-4d5c-95e5-a6f5edac3655",
   "metadata": {},
   "outputs": [],
   "source": [
    "data = pd.read_csv(r\"C:\\Users\\ps034\\Downloads\\evride_dataset_5000_records_2025-08-19.csv\")"
   ]
  },
  {
   "cell_type": "code",
   "execution_count": null,
   "id": "01b8bfa0-e47e-41db-9495-405b5f122b3c",
   "metadata": {},
   "outputs": [
    {
     "name": "stdout",
     "output_type": "stream",
     "text": [
      "C:\\Users\\ps034\n"
     ]
    }
   ],
   "source": [
    "import os \n",
    "print(os.getcwd())"
   ]
  },
  {
   "cell_type": "code",
   "execution_count": null,
   "id": "1045e9ff-3362-41e8-b56e-2d5970acc407",
   "metadata": {},
   "outputs": [
    {
     "name": "stdout",
     "output_type": "stream",
     "text": [
      "    trip_id       city  distance_km  duration_minutes  traffic_level  \\\n",
      "0  EV000001       Pune        15.23              40.5             60   \n",
      "1  EV000002     Mumbai        23.72              70.5             60   \n",
      "2  EV000003      Delhi        30.65             145.8             81   \n",
      "3  EV000004  Bangalore        51.44             109.9             88   \n",
      "4  EV000005  Bangalore        16.72              67.7             60   \n",
      "\n",
      "   demand_factor  battery_health_percent  energy_consumption_kwh  \\\n",
      "0        2.58570                      79                    4.84   \n",
      "1        1.24488                      82                    5.59   \n",
      "2        1.98000                      96                    8.57   \n",
      "3        0.97200                      95                    7.44   \n",
      "4        2.09300                      90                    6.54   \n",
      "\n",
      "   route_difficulty vehicle_type  ... weather_condition temperature_celsius  \\\n",
      "0                 4        Sedan  ...             Foggy                  17   \n",
      "1                 4          SUV  ...             Storm                  26   \n",
      "2                 6      Compact  ...               Hot                  25   \n",
      "3                 7        Sedan  ...             Foggy                  15   \n",
      "4                 7      Compact  ...             Foggy                  16   \n",
      "\n",
      "  humidity_percent  driver_rating  surge_multiplier  \\\n",
      "0               45            4.5              2.47   \n",
      "1               60            3.6              2.00   \n",
      "2               57            3.6              1.00   \n",
      "3               61            3.7              1.00   \n",
      "4               55            4.1              1.71   \n",
      "\n",
      "   historical_pricing_factor  is_holiday  charging_stations_nearby  user_type  \\\n",
      "0                       0.94           0                         4    Premium   \n",
      "1                       0.93           0                         7    Premium   \n",
      "2                       0.98           1                         9    Regular   \n",
      "3                       1.04           0                         4    Premium   \n",
      "4                       0.97           0                         7    Premium   \n",
      "\n",
      "   fare_amount_inr  \n",
      "0          1130.74  \n",
      "1          1142.17  \n",
      "2           929.03  \n",
      "3          1043.40  \n",
      "4           825.76  \n",
      "\n",
      "[5 rows x 22 columns]\n"
     ]
    }
   ],
   "source": [
    "print(data.head())"
   ]
  },
  {
   "cell_type": "code",
   "execution_count": null,
   "id": "f6c22478-ec26-4e2e-9a3e-487d6e5e06b4",
   "metadata": {},
   "outputs": [
    {
     "name": "stdout",
     "output_type": "stream",
     "text": [
      "<class 'pandas.core.frame.DataFrame'>\n",
      "RangeIndex: 5000 entries, 0 to 4999\n",
      "Data columns (total 22 columns):\n",
      " #   Column                     Non-Null Count  Dtype  \n",
      "---  ------                     --------------  -----  \n",
      " 0   trip_id                    5000 non-null   object \n",
      " 1   city                       5000 non-null   object \n",
      " 2   distance_km                5000 non-null   float64\n",
      " 3   duration_minutes           5000 non-null   float64\n",
      " 4   traffic_level              5000 non-null   int64  \n",
      " 5   demand_factor              5000 non-null   float64\n",
      " 6   battery_health_percent     5000 non-null   int64  \n",
      " 7   energy_consumption_kwh     5000 non-null   float64\n",
      " 8   route_difficulty           5000 non-null   int64  \n",
      " 9   vehicle_type               5000 non-null   object \n",
      " 10  time_of_day                5000 non-null   object \n",
      " 11  day_of_week                5000 non-null   object \n",
      " 12  weather_condition          5000 non-null   object \n",
      " 13  temperature_celsius        5000 non-null   int64  \n",
      " 14  humidity_percent           5000 non-null   int64  \n",
      " 15  driver_rating              5000 non-null   float64\n",
      " 16  surge_multiplier           5000 non-null   float64\n",
      " 17  historical_pricing_factor  5000 non-null   float64\n",
      " 18  is_holiday                 5000 non-null   int64  \n",
      " 19  charging_stations_nearby   5000 non-null   int64  \n",
      " 20  user_type                  5000 non-null   object \n",
      " 21  fare_amount_inr            5000 non-null   float64\n",
      "dtypes: float64(8), int64(7), object(7)\n",
      "memory usage: 859.5+ KB\n",
      "None\n"
     ]
    }
   ],
   "source": [
    "print(data.info())"
   ]
  },
  {
   "cell_type": "markdown",
   "id": "a527ed5d",
   "metadata": {},
   "source": []
  },
  {
   "cell_type": "markdown",
   "id": "72022d3b",
   "metadata": {},
   "source": []
  },
  {
   "cell_type": "code",
   "execution_count": null,
   "id": "688fbc49-8934-4be0-a23b-29e823515d0e",
   "metadata": {},
   "outputs": [],
   "source": [
    "x = data.drop(\"traffic_level\",axis=1)\n",
    "y= data[\"traffic_level\"]"
   ]
  },
  {
   "cell_type": "code",
   "execution_count": null,
   "id": "f8b1ff65-17ff-4dac-8ff9-c14d8f754d52",
   "metadata": {},
   "outputs": [
    {
     "name": "stdout",
     "output_type": "stream",
     "text": [
      "Index(['trip_id', 'city', 'distance_km', 'duration_minutes', 'traffic_level',\n",
      "       'demand_factor', 'battery_health_percent', 'energy_consumption_kwh',\n",
      "       'route_difficulty', 'vehicle_type', 'time_of_day', 'day_of_week',\n",
      "       'weather_condition', 'temperature_celsius', 'humidity_percent',\n",
      "       'driver_rating', 'surge_multiplier', 'historical_pricing_factor',\n",
      "       'is_holiday', 'charging_stations_nearby', 'user_type',\n",
      "       'fare_amount_inr'],\n",
      "      dtype='object')\n"
     ]
    }
   ],
   "source": [
    "print(data.columns)"
   ]
  },
  {
   "cell_type": "code",
   "execution_count": null,
   "id": "a60eed64-8c8f-4f45-bed6-8e74abb9d1ba",
   "metadata": {},
   "outputs": [],
   "source": [
    "from sklearn.model_selection import train_test_split"
   ]
  },
  {
   "cell_type": "code",
   "execution_count": null,
   "id": "1ea61004-285f-4983-a93a-8fc569923512",
   "metadata": {},
   "outputs": [],
   "source": [
    "from sklearn.compose import ColumnTransformer"
   ]
  },
  {
   "cell_type": "code",
   "execution_count": null,
   "id": "50b30256-a5c5-4575-8ea5-935ef7aecf18",
   "metadata": {},
   "outputs": [],
   "source": [
    "from sklearn.preprocessing import OneHotEncoder"
   ]
  },
  {
   "cell_type": "code",
   "execution_count": null,
   "id": "12eb4fba-e1a3-47a6-b3c5-01ff877cb47f",
   "metadata": {},
   "outputs": [],
   "source": [
    "from sklearn.impute import SimpleImputer"
   ]
  },
  {
   "cell_type": "code",
   "execution_count": null,
   "id": "98d6b894-699c-4c33-90e7-b889b4bfa18c",
   "metadata": {},
   "outputs": [],
   "source": [
    "from sklearn.pipeline import Pipeline"
   ]
  },
  {
   "cell_type": "code",
   "execution_count": null,
   "id": "666bd8d4-2f03-44fa-b335-1b37cba373c8",
   "metadata": {},
   "outputs": [],
   "source": [
    "from sklearn.ensemble import RandomForestRegressor, RandomForestClassifier"
   ]
  },
  {
   "cell_type": "code",
   "execution_count": null,
   "id": "a5298a14-392a-4ded-a925-079cf46cb721",
   "metadata": {},
   "outputs": [],
   "source": [
    "from sklearn.metrics import mean_absolute_error, mean_squared_error, r2_score, accuracy_score, f1_score, classification_report\n",
    "import joblib"
   ]
  },
  {
   "cell_type": "code",
   "execution_count": null,
   "id": "5441c941-6d84-4501-b9c6-59af92d34113",
   "metadata": {},
   "outputs": [],
   "source": [
    "csv_path = (r\"C:\\Users\\ps034\\Downloads\\evride_dataset_5000_records_2025-08-19.csv\")"
   ]
  },
  {
   "cell_type": "code",
   "execution_count": null,
   "id": "b635d823-3f05-4ab9-9c0c-e14a81a1f768",
   "metadata": {},
   "outputs": [],
   "source": [
    "data = pd.read_csv(csv_path)"
   ]
  },
  {
   "cell_type": "code",
   "execution_count": null,
   "id": "fd922f74-fa63-4100-8886-058313867fc4",
   "metadata": {},
   "outputs": [],
   "source": [
    "# optional : quick sanity "
   ]
  },
  {
   "cell_type": "code",
   "execution_count": null,
   "id": "cdb7c7f7-fbee-45c3-842c-68222a1563db",
   "metadata": {},
   "outputs": [
    {
     "name": "stdout",
     "output_type": "stream",
     "text": [
      "Rows,Cols: (5000, 22)\n",
      "    trip_id    city  distance_km  duration_minutes  traffic_level  \\\n",
      "0  EV000001    Pune        15.23              40.5             60   \n",
      "1  EV000002  Mumbai        23.72              70.5             60   \n",
      "\n",
      "   demand_factor  battery_health_percent  energy_consumption_kwh  \\\n",
      "0        2.58570                      79                    4.84   \n",
      "1        1.24488                      82                    5.59   \n",
      "\n",
      "   route_difficulty vehicle_type  ... weather_condition temperature_celsius  \\\n",
      "0                 4        Sedan  ...             Foggy                  17   \n",
      "1                 4          SUV  ...             Storm                  26   \n",
      "\n",
      "  humidity_percent  driver_rating  surge_multiplier  \\\n",
      "0               45            4.5              2.47   \n",
      "1               60            3.6              2.00   \n",
      "\n",
      "   historical_pricing_factor  is_holiday  charging_stations_nearby  user_type  \\\n",
      "0                       0.94           0                         4    Premium   \n",
      "1                       0.93           0                         7    Premium   \n",
      "\n",
      "   fare_amount_inr  \n",
      "0          1130.74  \n",
      "1          1142.17  \n",
      "\n",
      "[2 rows x 22 columns]\n"
     ]
    }
   ],
   "source": [
    "print(\"Rows,Cols:\",data.shape)\n",
    "print(data.head(2))"
   ]
  },
  {
   "cell_type": "code",
   "execution_count": null,
   "id": "362cb2ee-7876-4b04-b7c6-2f36b5a25ba5",
   "metadata": {},
   "outputs": [],
   "source": [
    "# Basic cleaning\n"
   ]
  },
  {
   "cell_type": "code",
   "execution_count": null,
   "id": "f3d59060-05c3-436b-b059-03a02ccb163c",
   "metadata": {},
   "outputs": [],
   "source": [
    "if 'trip_id' in data.columns:\n",
    "    data = data.drop(columns=['trip_id'])"
   ]
  },
  {
   "cell_type": "code",
   "execution_count": null,
   "id": "e4b7cebc-0fbc-4f46-b70c-395abdfd7439",
   "metadata": {},
   "outputs": [],
   "source": [
    "# # Ensure target present"
   ]
  },
  {
   "cell_type": "code",
   "execution_count": null,
   "id": "5da965e0-cdb4-4db1-ac7f-65ade43994c2",
   "metadata": {},
   "outputs": [],
   "source": [
    "assert 'fare_amount_inr' in data.columns, \"Target column 'fare_amount_inr' missing!\""
   ]
  },
  {
   "cell_type": "code",
   "execution_count": null,
   "id": "a748ad6d-ff9f-4edc-8f94-ba754ab38971",
   "metadata": {},
   "outputs": [],
   "source": [
    "\n",
    "# ============ 4) Feature/Target split (for Regression) ============"
   ]
  },
  {
   "cell_type": "code",
   "execution_count": null,
   "id": "a8ee44d2-9c40-4941-89c1-47b270d2887e",
   "metadata": {},
   "outputs": [],
   "source": [
    "y_reg = data['fare_amount_inr']\n",
    "X= data.drop(columns=['fare_amount_inr'])"
   ]
  },
  {
   "cell_type": "code",
   "execution_count": null,
   "id": "115057eb-9724-43b1-ac6d-753b339cfd8f",
   "metadata": {},
   "outputs": [],
   "source": [
    "# Categorical vs Numeric columns"
   ]
  },
  {
   "cell_type": "code",
   "execution_count": null,
   "id": "e92047ad-23e2-4f1c-af11-90fa62649647",
   "metadata": {},
   "outputs": [],
   "source": [
    "cat_cols = [\n",
    "    'city', 'traffic_level', 'route_difficulty', 'vehicle_type',\n",
    "    'time_of_day', 'day_of_week', 'weather_condition', 'user_type'\n",
    "]"
   ]
  },
  {
   "cell_type": "code",
   "execution_count": null,
   "id": "3063309b-0710-43ec-9457-3cdc9c5eb88b",
   "metadata": {},
   "outputs": [],
   "source": [
    "# Boolean ko numeric banado (0/1). Agar string 'Yes/No' ho to map karlo."
   ]
  },
  {
   "cell_type": "code",
   "execution_count": null,
   "id": "5ccbf231-7b3d-4d9d-9cb6-26209cb0666e",
   "metadata": {},
   "outputs": [],
   "source": [
    "if 'is_holiday' in X.columns:\n",
    "    if X['is_holiday'].dtype == bool:\n",
    "        X['is_holiday'] = X['is_holiday'].astype(int)\n",
    "    elif X['is_holiday'].dtype == object:\n",
    "        X['is_holiday'] = X['is_holiday'].map({True:1, False:0, 'Yes':1, 'No':0, 'Y':1, 'N':0}).fillna(0).astype(int)"
   ]
  },
  {
   "cell_type": "code",
   "execution_count": null,
   "id": "892badb5-c30f-407c-8e24-332f20d9c744",
   "metadata": {},
   "outputs": [],
   "source": [
    "# cat_cols me sirf wo rakho jo X me exist karte hain"
   ]
  },
  {
   "cell_type": "code",
   "execution_count": null,
   "id": "4f20733f-0ad5-4873-8d59-09f4860c9e43",
   "metadata": {},
   "outputs": [],
   "source": [
    "cat_cols = [c for c in cat_cols if c in X.columns]"
   ]
  },
  {
   "cell_type": "code",
   "execution_count": null,
   "id": "a1bd12dd-188d-4855-b936-95ce71f03511",
   "metadata": {},
   "outputs": [],
   "source": [
    "num_cols = [c for c in X.columns if c not in cat_cols]"
   ]
  },
  {
   "cell_type": "code",
   "execution_count": null,
   "id": "ac77e807-4fb3-4376-acfe-58f74efd346e",
   "metadata": {},
   "outputs": [],
   "source": [
    "# ============ 5) Preprocessing =========="
   ]
  },
  {
   "cell_type": "code",
   "execution_count": null,
   "id": "39ecdbd5-53d2-4803-899b-cd217631057e",
   "metadata": {},
   "outputs": [],
   "source": [
    "numeric_tf = Pipeline(steps=[\n",
    "    (\"imputer\", SimpleImputer(strategy=\"median\"))\n",
    "])\n",
    "\n",
    "categorical_tf = Pipeline(steps=[\n",
    "    (\"imputer\", SimpleImputer(strategy=\"most_frequent\")),\n",
    "    (\"onehot\", OneHotEncoder(handle_unknown=\"ignore\"))\n",
    "])\n",
    "\n",
    "preprocess = ColumnTransformer(\n",
    "    transformers=[\n",
    "        (\"num\", numeric_tf, num_cols),\n",
    "        (\"cat\", categorical_tf, cat_cols),\n",
    "    ],\n",
    "    remainder=\"drop\"\n",
    ")"
   ]
  },
  {
   "cell_type": "code",
   "execution_count": null,
   "id": "2821ab65-53e6-40d2-94fa-15b5c1517dab",
   "metadata": {},
   "outputs": [],
   "source": [
    "# ============ 6) Train/Test split ============"
   ]
  },
  {
   "cell_type": "code",
   "execution_count": null,
   "id": "208fea36-947d-4baf-9fa6-e00b80e24996",
   "metadata": {},
   "outputs": [],
   "source": [
    "X_train, X_test, y_train_reg, y_test_reg = train_test_split(\n",
    "    X, y_reg, test_size=0.2, random_state=42\n",
    ")"
   ]
  },
  {
   "cell_type": "code",
   "execution_count": null,
   "id": "7485356e-248c-402c-a910-1dfe5ad3d243",
   "metadata": {},
   "outputs": [],
   "source": [
    "# ============ 7) Random Forest REGRESSION ============"
   ]
  },
  {
   "cell_type": "code",
   "execution_count": null,
   "id": "9c104da9-8101-4414-81e2-8bc12ccb1162",
   "metadata": {},
   "outputs": [],
   "source": [
    "reg_model = Pipeline(steps=[\n",
    "    (\"prep\", preprocess),\n",
    "    (\"rf\", RandomForestRegressor(\n",
    "        n_estimators=300,\n",
    "        max_depth=None,\n",
    "        min_samples_split=4,\n",
    "        min_samples_leaf=1,\n",
    "        random_state=42,\n",
    "        n_jobs=-1\n",
    "    ))\n",
    "])"
   ]
  },
  {
   "cell_type": "code",
   "execution_count": null,
   "id": "1748ef18-6aa3-4e4f-90c3-750389a8f6e9",
   "metadata": {},
   "outputs": [],
   "source": [
    "reg_model.fit(X_train, y_train_reg)\n",
    "y_pred_reg = reg_model.predict(X_test)"
   ]
  },
  {
   "cell_type": "code",
   "execution_count": null,
   "id": "a0fdfb01-0516-4af8-975e-d9150edff021",
   "metadata": {},
   "outputs": [
    {
     "name": "stderr",
     "output_type": "stream",
     "text": [
      "C:\\Users\\ps034\\anaconda3\\Lib\\site-packages\\sklearn\\metrics\\_regression.py:492: FutureWarning: 'squared' is deprecated in version 1.4 and will be removed in 1.6. To calculate the root mean squared error, use the function'root_mean_squared_error'.\n",
      "  warnings.warn(\n"
     ]
    }
   ],
   "source": [
    "mae = mean_absolute_error(y_test_reg, y_pred_reg)\n",
    "rmse = mean_squared_error(y_test_reg, y_pred_reg, squared=False)\n",
    "r2 = r2_score(y_test_reg, y_pred_reg)"
   ]
  },
  {
   "cell_type": "code",
   "execution_count": null,
   "id": "51410365-12c8-4d37-84a4-7190202e3e91",
   "metadata": {},
   "outputs": [
    {
     "name": "stdout",
     "output_type": "stream",
     "text": [
      "\n",
      "=== REGRESSION METRICS (Fare Prediction) ===\n",
      "MAE : 432.67\n",
      "RMSE: 810.93\n",
      "R²  : 0.8797\n"
     ]
    }
   ],
   "source": [
    "print(\"\\n=== REGRESSION METRICS (Fare Prediction) ===\")\n",
    "print(f\"MAE : {mae:,.2f}\")\n",
    "print(f\"RMSE: {rmse:,.2f}\")\n",
    "print(f\"R²  : {r2:,.4f}\")"
   ]
  },
  {
   "cell_type": "code",
   "execution_count": null,
   "id": "2b63f529-9d53-484c-99a8-073e2bfcb977",
   "metadata": {},
   "outputs": [],
   "source": [
    "# ============ 8) Feature Importance (top 15) ============\n",
    "# Get onehot feature names to align with RF importances"
   ]
  },
  {
   "cell_type": "code",
   "execution_count": null,
   "id": "a0c93d2a-5458-4632-a635-15b1b4c019e7",
   "metadata": {},
   "outputs": [],
   "source": [
    "ohe = reg_model.named_steps[\"prep\"].named_transformers_[\"cat\"].named_steps[\"onehot\"]\n",
    "ohe_features = list(ohe.get_feature_names_out(cat_cols)) if len(cat_cols) else []\n",
    "all_features = num_cols + ohe_features"
   ]
  },
  {
   "cell_type": "code",
   "execution_count": null,
   "id": "44aa8d52-304a-4f5a-bd34-abc52cca2ab9",
   "metadata": {},
   "outputs": [],
   "source": [
    "rf = reg_model.named_steps[\"rf\"]\n",
    "importances = rf.feature_importances_"
   ]
  },
  {
   "cell_type": "code",
   "execution_count": null,
   "id": "987a853f-5fc7-4307-a17b-b5741c81ff68",
   "metadata": {},
   "outputs": [],
   "source": [
    "fi = pd.DataFrame({\n",
    "    \"feature\": all_features,\n",
    "    \"importance\": importances\n",
    "}).sort_values(\"importance\", ascending=False)"
   ]
  },
  {
   "cell_type": "code",
   "execution_count": null,
   "id": "79a83a6c-6a63-4fdf-9319-1d94a0902f0a",
   "metadata": {},
   "outputs": [
    {
     "name": "stdout",
     "output_type": "stream",
     "text": [
      "\n",
      "=== TOP 15 IMPORTANT FEATURES (Regression) ===\n",
      "                  feature  importance\n",
      "            demand_factor    0.416483\n",
      "              distance_km    0.344930\n",
      "     vehicle_type_Premium    0.062146\n",
      "         surge_multiplier    0.045498\n",
      "            driver_rating    0.014970\n",
      "   battery_health_percent    0.012805\n",
      "   energy_consumption_kwh    0.010272\n",
      "  weather_condition_Storm    0.008581\n",
      "historical_pricing_factor    0.008361\n",
      "         duration_minutes    0.007690\n",
      "         humidity_percent    0.006947\n",
      "         vehicle_type_SUV    0.006713\n",
      "     vehicle_type_Compact    0.006514\n",
      "      temperature_celsius    0.005933\n",
      "              city_Mumbai    0.004844\n"
     ]
    }
   ],
   "source": [
    "print(\"\\n=== TOP 15 IMPORTANT FEATURES (Regression) ===\")\n",
    "print(fi.head(15).to_string(index=False))"
   ]
  },
  {
   "cell_type": "code",
   "execution_count": null,
   "id": "398dc333-4664-46ad-a357-9fff1e9f7449",
   "metadata": {},
   "outputs": [],
   "source": [
    "# ============ 9) Save regression model ============"
   ]
  },
  {
   "cell_type": "code",
   "execution_count": null,
   "id": "18d5b41b-752c-4abd-a7a8-5784e3e11fc4",
   "metadata": {},
   "outputs": [
    {
     "name": "stdout",
     "output_type": "stream",
     "text": [
      "\n",
      "Saved: evride_rf_regression.pkl\n"
     ]
    }
   ],
   "source": [
    "joblib.dump(reg_model, \"evride_rf_regression.pkl\")\n",
    "print(\"\\nSaved: evride_rf_regression.pkl\")"
   ]
  },
  {
   "cell_type": "code",
   "execution_count": null,
   "id": "b9203b03-fa5b-4336-985e-d35339a7c264",
   "metadata": {},
   "outputs": [],
   "source": [
    "# ============ 10) CLASSIFICATION for Accuracy/F1 (price bands) ============"
   ]
  },
  {
   "cell_type": "code",
   "execution_count": null,
   "id": "dcb7ddbe-3735-43c3-93e2-f1f06ea9c024",
   "metadata": {},
   "outputs": [],
   "source": [
    "# Price ko bands me convert: train set ke quantiles par based to avoid leak"
   ]
  },
  {
   "cell_type": "code",
   "execution_count": null,
   "id": "90c5d53e-3e62-45df-b3c3-3dbe5044b84d",
   "metadata": {},
   "outputs": [],
   "source": [
    "q = y_train_reg.quantile([0.25, 0.5, 0.75]).values\n",
    "bins = [-np.inf, q[0], q[1], q[2], np.inf]\n",
    "labels = [\"cheap\", \"mid\", \"high\", \"very_high\"]"
   ]
  },
  {
   "cell_type": "code",
   "execution_count": null,
   "id": "d3c519f0-8752-452c-90a5-d9aeaf15620f",
   "metadata": {},
   "outputs": [],
   "source": [
    "# y_class banaye for train/test"
   ]
  },
  {
   "cell_type": "code",
   "execution_count": null,
   "id": "fd522d5e-3d5e-4637-a52f-74a93d369dcd",
   "metadata": {},
   "outputs": [],
   "source": [
    "y_train_cls = pd.cut(y_train_reg, bins=bins, labels=labels, include_lowest=True)\n",
    "y_test_cls  = pd.cut(y_test_reg,  bins=bins, labels=labels, include_lowest=True)"
   ]
  },
  {
   "cell_type": "code",
   "execution_count": null,
   "id": "a38c1aff-6575-4851-9c8f-0f95ac7fe3f1",
   "metadata": {},
   "outputs": [],
   "source": [
    "cls_model = Pipeline(steps=[\n",
    "    (\"prep\", preprocess),\n",
    "    (\"rf\", RandomForestClassifier(\n",
    "        n_estimators=400,\n",
    "        max_depth=None,\n",
    "        class_weight=\"balanced\",\n",
    "        random_state=42,\n",
    "        n_jobs=-1\n",
    "    ))\n",
    "])"
   ]
  },
  {
   "cell_type": "code",
   "execution_count": null,
   "id": "70f73f6d-afd6-430a-811a-d3b17f28e674",
   "metadata": {},
   "outputs": [],
   "source": [
    "cls_model.fit(X_train, y_train_cls)\n",
    "y_pred_cls = cls_model.predict(X_test)"
   ]
  },
  {
   "cell_type": "code",
   "execution_count": null,
   "id": "b8db1a9b-4043-41dd-acd9-84595352dabe",
   "metadata": {},
   "outputs": [],
   "source": [
    "acc = accuracy_score(y_test_cls, y_pred_cls)\n",
    "f1_w = f1_score(y_test_cls, y_pred_cls, average=\"weighted\")"
   ]
  },
  {
   "cell_type": "code",
   "execution_count": null,
   "id": "a24e9d86-d99c-407f-a805-b0f3c3864597",
   "metadata": {},
   "outputs": [
    {
     "name": "stdout",
     "output_type": "stream",
     "text": [
      "\n",
      "=== CLASSIFICATION METRICS (Price Bands) ===\n",
      "Accuracy : 0.7960\n",
      "F1-score : 0.7936\n",
      "\n",
      "Detailed report:\n",
      "              precision    recall  f1-score   support\n",
      "\n",
      "       cheap     0.8667    0.8735    0.8701       253\n",
      "        high     0.7635    0.6327    0.6920       245\n",
      "         mid     0.7044    0.7598    0.7311       254\n",
      "   very_high     0.8470    0.9153    0.8798       248\n",
      "\n",
      "    accuracy                         0.7960      1000\n",
      "   macro avg     0.7954    0.7953    0.7932      1000\n",
      "weighted avg     0.7953    0.7960    0.7936      1000\n",
      "\n"
     ]
    }
   ],
   "source": [
    "print(\"\\n=== CLASSIFICATION METRICS (Price Bands) ===\")\n",
    "print(f\"Accuracy : {acc:.4f}\")\n",
    "print(f\"F1-score : {f1_w:.4f}\")\n",
    "print(\"\\nDetailed report:\")\n",
    "print(classification_report(y_test_cls, y_pred_cls, digits=4))"
   ]
  },
  {
   "cell_type": "code",
   "execution_count": null,
   "id": "31629279-abc5-4694-b4e7-ea7a27388a64",
   "metadata": {},
   "outputs": [],
   "source": [
    "# Save classifier too"
   ]
  },
  {
   "cell_type": "code",
   "execution_count": null,
   "id": "b2c885ff-379a-4e08-bcca-09099eea39cb",
   "metadata": {},
   "outputs": [
    {
     "name": "stdout",
     "output_type": "stream",
     "text": [
      "\n",
      "Saved: evride_rf_pricebands_classifier.pkl\n"
     ]
    }
   ],
   "source": [
    "joblib.dump(cls_model, \"evride_rf_pricebands_classifier.pkl\")\n",
    "print(\"\\nSaved: evride_rf_pricebands_classifier.pkl\")"
   ]
  },
  {
   "cell_type": "code",
   "execution_count": null,
   "id": "5d435a16-3cbe-4b45-be37-4a91b8345fe7",
   "metadata": {},
   "outputs": [],
   "source": []
  }
 ],
 "metadata": {
  "kernelspec": {
   "display_name": "Python [conda env:base] *",
   "language": "python",
   "name": "conda-base-py"
  },
  "language_info": {
   "codemirror_mode": {
    "name": "ipython",
    "version": 3
   },
   "file_extension": ".py",
   "mimetype": "text/x-python",
   "name": "python",
   "nbconvert_exporter": "python",
   "pygments_lexer": "ipython3",
   "version": "3.12.7"
  }
 },
 "nbformat": 4,
 "nbformat_minor": 5
}
