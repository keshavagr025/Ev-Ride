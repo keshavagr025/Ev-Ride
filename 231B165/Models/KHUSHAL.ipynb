{
  "metadata": {
    "kernelspec": {
      "name": "python",
      "display_name": "Python (Pyodide)",
      "language": "python"
    },
    "language_info": {
      "codemirror_mode": {
        "name": "python",
        "version": 3
      },
      "file_extension": ".py",
      "mimetype": "text/x-python",
      "name": "python",
      "nbconvert_exporter": "python",
      "pygments_lexer": "ipython3",
      "version": "3.8"
    }
  },
  "nbformat_minor": 5,
  "nbformat": 4,
  "cells": [
    {
      "id": "400af359-04a8-456c-b3a8-678a98f8558e",
      "cell_type": "code",
      "source": "import pandas as pd\nimport numpy as np",
      "metadata": {
        "trusted": true
      },
      "outputs": [],
      "execution_count": 1
    },
    {
      "id": "825c2f58-0b27-464f-9034-b282e35c15fe",
      "cell_type": "code",
      "source": "from sklearn.model_selection import train_test_split",
      "metadata": {
        "trusted": true
      },
      "outputs": [],
      "execution_count": 2
    },
    {
      "id": "13c72ee8-6b12-4a35-8689-fdaa858fefe4",
      "cell_type": "code",
      "source": "from sklearn.compose import ColumnTransformer\nfrom sklearn.preprocessing import OneHotEncoder\nfrom sklearn.impute import SimpleImputer\nfrom sklearn.pipeline import Pipeline\nfrom sklearn.ensemble import RandomForestRegressor, GradientBoostingRegressor\nfrom sklearn.metrics import mean_absolute_error, mean_squared_error, r2_score\n",
      "metadata": {
        "trusted": true
      },
      "outputs": [],
      "execution_count": 3
    },
    {
      "id": "0a59f9fc-ba55-4aa8-83cb-67153916621d",
      "cell_type": "code",
      "source": "csv_path = (\"evride_dataset_5000_records_2025-08-19.csv\")\ndata = pd.read_csv(csv_path)",
      "metadata": {
        "trusted": true
      },
      "outputs": [],
      "execution_count": 18
    },
    {
      "id": "2bf8e096-14ca-4d91-a66d-0afab4277e7c",
      "cell_type": "code",
      "source": "print(data.head())",
      "metadata": {
        "trusted": true
      },
      "outputs": [
        {
          "name": "stdout",
          "output_type": "stream",
          "text": "    trip_id       city  distance_km  duration_minutes  traffic_level  \\\n0  EV000001       Pune        15.23              40.5             60   \n1  EV000002     Mumbai        23.72              70.5             60   \n2  EV000003      Delhi        30.65             145.8             81   \n3  EV000004  Bangalore        51.44             109.9             88   \n4  EV000005  Bangalore        16.72              67.7             60   \n\n   demand_factor  battery_health_percent  energy_consumption_kwh  \\\n0        2.58570                      79                    4.84   \n1        1.24488                      82                    5.59   \n2        1.98000                      96                    8.57   \n3        0.97200                      95                    7.44   \n4        2.09300                      90                    6.54   \n\n   route_difficulty vehicle_type  ... weather_condition temperature_celsius  \\\n0                 4        Sedan  ...             Foggy                  17   \n1                 4          SUV  ...             Storm                  26   \n2                 6      Compact  ...               Hot                  25   \n3                 7        Sedan  ...             Foggy                  15   \n4                 7      Compact  ...             Foggy                  16   \n\n  humidity_percent  driver_rating  surge_multiplier  \\\n0               45            4.5              2.47   \n1               60            3.6              2.00   \n2               57            3.6              1.00   \n3               61            3.7              1.00   \n4               55            4.1              1.71   \n\n   historical_pricing_factor  is_holiday  charging_stations_nearby  user_type  \\\n0                       0.94           0                         4    Premium   \n1                       0.93           0                         7    Premium   \n2                       0.98           1                         9    Regular   \n3                       1.04           0                         4    Premium   \n4                       0.97           0                         7    Premium   \n\n   fare_amount_inr  \n0          1130.74  \n1          1142.17  \n2           929.03  \n3          1043.40  \n4           825.76  \n\n[5 rows x 22 columns]\n"
        }
      ],
      "execution_count": 19
    },
    {
      "id": "ea701762-d098-4c55-a3df-a3419bccfffd",
      "cell_type": "code",
      "source": "# Drop useless column\nif \"trip_id\" in data.columns:\n    data = data.drop(columns=[\"trip_id\"])\n",
      "metadata": {
        "trusted": true
      },
      "outputs": [],
      "execution_count": 20
    },
    {
      "id": "6a611c8d-7f88-456a-960e-2e94ece02c6b",
      "cell_type": "code",
      "source": "# Convert all numeric columns to float32 for NumPy 2.x compatibility\nfor col in data.select_dtypes(include=[\"float64\", \"int64\"]).columns:\n    data[col] = data[col].astype(np.float32)",
      "metadata": {
        "trusted": true
      },
      "outputs": [],
      "execution_count": 21
    },
    {
      "id": "bceb822f-0ca7-465a-b6f0-d4d2154a9792",
      "cell_type": "code",
      "source": "# -----------------------------\n# Split features & target\n# -----------------------------\nX = data.drop(columns=[\"fare_amount_inr\"])\ny = data[\"fare_amount_inr\"].astype(np.float32)",
      "metadata": {
        "trusted": true
      },
      "outputs": [],
      "execution_count": 22
    },
    {
      "id": "cf8daff9-c5ef-484d-b97a-d559ffa1c3fc",
      "cell_type": "code",
      "source": "# Separate categorical & numeric columns\ncat_cols = X.select_dtypes(include=[\"object\"]).columns.tolist()\nnum_cols = X.select_dtypes(exclude=[\"object\"]).columns.tolist()",
      "metadata": {
        "trusted": true
      },
      "outputs": [],
      "execution_count": 23
    },
    {
      "id": "c21559e7-d151-404e-b142-21f6db8c5915",
      "cell_type": "code",
      "source": "# -----------------------------\n# Preprocessing Pipelines\n# -----------------------------\nnumeric_tf = Pipeline([\n    (\"imputer\", SimpleImputer(strategy=\"median\"))\n])\n\ncategorical_tf = Pipeline([\n    (\"imputer\", SimpleImputer(strategy=\"most_frequent\")),\n   (\"onehot\", OneHotEncoder(handle_unknown=\"ignore\", sparse_output=False))\n\n])\n\npreprocess = ColumnTransformer([\n    (\"num\", numeric_tf, num_cols),\n    (\"cat\", categorical_tf, cat_cols)\n])",
      "metadata": {
        "trusted": true
      },
      "outputs": [],
      "execution_count": 27
    },
    {
      "id": "fd88bb02-650a-4217-9fc1-f8bf5da4ad49",
      "cell_type": "code",
      "source": "# -----------------------------\n# Train/Test Split\n# -----------------------------\nX_train, X_test, y_train, y_test = train_test_split(\n    X, y, test_size=0.2, random_state=42\n)",
      "metadata": {
        "trusted": true
      },
      "outputs": [],
      "execution_count": 28
    },
    {
      "id": "e550eca4-399b-4207-8158-6266cb0cb59f",
      "cell_type": "code",
      "source": "",
      "metadata": {
        "trusted": true
      },
      "outputs": [
        {
          "ename": "<class 'ValueError'>",
          "evalue": "could not convert string to float: 'Low'",
          "traceback": [
            "\u001b[0;31m---------------------------------------------------------------------------\u001b[0m",
            "\u001b[0;31mValueError\u001b[0m                                Traceback (most recent call last)",
            "Cell \u001b[0;32mIn[40], line 14\u001b[0m\n\u001b[1;32m      1\u001b[0m \u001b[38;5;66;03m# -----------------------------\u001b[39;00m\n\u001b[1;32m      2\u001b[0m \u001b[38;5;66;03m# RANDOM FOREST\u001b[39;00m\n\u001b[1;32m      3\u001b[0m \u001b[38;5;66;03m# -----------------------------\u001b[39;00m\n\u001b[1;32m      4\u001b[0m rf_model \u001b[38;5;241m=\u001b[39m Pipeline([\n\u001b[1;32m      5\u001b[0m     (\u001b[38;5;124m\"\u001b[39m\u001b[38;5;124mprep\u001b[39m\u001b[38;5;124m\"\u001b[39m, preprocess),\n\u001b[1;32m      6\u001b[0m     (\u001b[38;5;124m\"\u001b[39m\u001b[38;5;124mrf\u001b[39m\u001b[38;5;124m\"\u001b[39m, RandomForestRegressor(\n\u001b[0;32m   (...)\u001b[0m\n\u001b[1;32m     11\u001b[0m     ))\n\u001b[1;32m     12\u001b[0m ])\n\u001b[0;32m---> 14\u001b[0m \u001b[43mrf_model\u001b[49m\u001b[38;5;241;43m.\u001b[39;49m\u001b[43mfit\u001b[49m\u001b[43m(\u001b[49m\u001b[43mX_train\u001b[49m\u001b[43m,\u001b[49m\u001b[43m \u001b[49m\u001b[43my_train\u001b[49m\u001b[43m)\u001b[49m\n\u001b[1;32m     15\u001b[0m y_pred_rf \u001b[38;5;241m=\u001b[39m rf_model\u001b[38;5;241m.\u001b[39mpredict(X_test)\n\u001b[1;32m     17\u001b[0m \u001b[38;5;28mprint\u001b[39m(\u001b[38;5;124m\"\u001b[39m\u001b[38;5;130;01m\\n\u001b[39;00m\u001b[38;5;124m=== RANDOM FOREST ===\u001b[39m\u001b[38;5;124m\"\u001b[39m)\n",
            "File \u001b[0;32m/lib/python3.12/site-packages/sklearn/base.py:1389\u001b[0m, in \u001b[0;36m_fit_context.<locals>.decorator.<locals>.wrapper\u001b[0;34m(estimator, *args, **kwargs)\u001b[0m\n\u001b[1;32m   1382\u001b[0m     estimator\u001b[38;5;241m.\u001b[39m_validate_params()\n\u001b[1;32m   1384\u001b[0m \u001b[38;5;28;01mwith\u001b[39;00m config_context(\n\u001b[1;32m   1385\u001b[0m     skip_parameter_validation\u001b[38;5;241m=\u001b[39m(\n\u001b[1;32m   1386\u001b[0m         prefer_skip_nested_validation \u001b[38;5;129;01mor\u001b[39;00m global_skip_validation\n\u001b[1;32m   1387\u001b[0m     )\n\u001b[1;32m   1388\u001b[0m ):\n\u001b[0;32m-> 1389\u001b[0m     \u001b[38;5;28;01mreturn\u001b[39;00m \u001b[43mfit_method\u001b[49m\u001b[43m(\u001b[49m\u001b[43mestimator\u001b[49m\u001b[43m,\u001b[49m\u001b[43m \u001b[49m\u001b[38;5;241;43m*\u001b[39;49m\u001b[43margs\u001b[49m\u001b[43m,\u001b[49m\u001b[43m \u001b[49m\u001b[38;5;241;43m*\u001b[39;49m\u001b[38;5;241;43m*\u001b[39;49m\u001b[43mkwargs\u001b[49m\u001b[43m)\u001b[49m\n",
            "File \u001b[0;32m/lib/python3.12/site-packages/sklearn/pipeline.py:662\u001b[0m, in \u001b[0;36mPipeline.fit\u001b[0;34m(self, X, y, **params)\u001b[0m\n\u001b[1;32m    656\u001b[0m     \u001b[38;5;28;01mif\u001b[39;00m \u001b[38;5;28mself\u001b[39m\u001b[38;5;241m.\u001b[39m_final_estimator \u001b[38;5;241m!=\u001b[39m \u001b[38;5;124m\"\u001b[39m\u001b[38;5;124mpassthrough\u001b[39m\u001b[38;5;124m\"\u001b[39m:\n\u001b[1;32m    657\u001b[0m         last_step_params \u001b[38;5;241m=\u001b[39m \u001b[38;5;28mself\u001b[39m\u001b[38;5;241m.\u001b[39m_get_metadata_for_step(\n\u001b[1;32m    658\u001b[0m             step_idx\u001b[38;5;241m=\u001b[39m\u001b[38;5;28mlen\u001b[39m(\u001b[38;5;28mself\u001b[39m) \u001b[38;5;241m-\u001b[39m \u001b[38;5;241m1\u001b[39m,\n\u001b[1;32m    659\u001b[0m             step_params\u001b[38;5;241m=\u001b[39mrouted_params[\u001b[38;5;28mself\u001b[39m\u001b[38;5;241m.\u001b[39msteps[\u001b[38;5;241m-\u001b[39m\u001b[38;5;241m1\u001b[39m][\u001b[38;5;241m0\u001b[39m]],\n\u001b[1;32m    660\u001b[0m             all_params\u001b[38;5;241m=\u001b[39mparams,\n\u001b[1;32m    661\u001b[0m         )\n\u001b[0;32m--> 662\u001b[0m         \u001b[38;5;28;43mself\u001b[39;49m\u001b[38;5;241;43m.\u001b[39;49m\u001b[43m_final_estimator\u001b[49m\u001b[38;5;241;43m.\u001b[39;49m\u001b[43mfit\u001b[49m\u001b[43m(\u001b[49m\u001b[43mXt\u001b[49m\u001b[43m,\u001b[49m\u001b[43m \u001b[49m\u001b[43my\u001b[49m\u001b[43m,\u001b[49m\u001b[43m \u001b[49m\u001b[38;5;241;43m*\u001b[39;49m\u001b[38;5;241;43m*\u001b[39;49m\u001b[43mlast_step_params\u001b[49m\u001b[43m[\u001b[49m\u001b[38;5;124;43m\"\u001b[39;49m\u001b[38;5;124;43mfit\u001b[39;49m\u001b[38;5;124;43m\"\u001b[39;49m\u001b[43m]\u001b[49m\u001b[43m)\u001b[49m\n\u001b[1;32m    664\u001b[0m \u001b[38;5;28;01mreturn\u001b[39;00m \u001b[38;5;28mself\u001b[39m\n",
            "File \u001b[0;32m/lib/python3.12/site-packages/sklearn/base.py:1389\u001b[0m, in \u001b[0;36m_fit_context.<locals>.decorator.<locals>.wrapper\u001b[0;34m(estimator, *args, **kwargs)\u001b[0m\n\u001b[1;32m   1382\u001b[0m     estimator\u001b[38;5;241m.\u001b[39m_validate_params()\n\u001b[1;32m   1384\u001b[0m \u001b[38;5;28;01mwith\u001b[39;00m config_context(\n\u001b[1;32m   1385\u001b[0m     skip_parameter_validation\u001b[38;5;241m=\u001b[39m(\n\u001b[1;32m   1386\u001b[0m         prefer_skip_nested_validation \u001b[38;5;129;01mor\u001b[39;00m global_skip_validation\n\u001b[1;32m   1387\u001b[0m     )\n\u001b[1;32m   1388\u001b[0m ):\n\u001b[0;32m-> 1389\u001b[0m     \u001b[38;5;28;01mreturn\u001b[39;00m \u001b[43mfit_method\u001b[49m\u001b[43m(\u001b[49m\u001b[43mestimator\u001b[49m\u001b[43m,\u001b[49m\u001b[43m \u001b[49m\u001b[38;5;241;43m*\u001b[39;49m\u001b[43margs\u001b[49m\u001b[43m,\u001b[49m\u001b[43m \u001b[49m\u001b[38;5;241;43m*\u001b[39;49m\u001b[38;5;241;43m*\u001b[39;49m\u001b[43mkwargs\u001b[49m\u001b[43m)\u001b[49m\n",
            "File \u001b[0;32m/lib/python3.12/site-packages/sklearn/ensemble/_forest.py:422\u001b[0m, in \u001b[0;36mBaseForest.fit\u001b[0;34m(self, X, y, sample_weight)\u001b[0m\n\u001b[1;32m    419\u001b[0m y, expanded_class_weight \u001b[38;5;241m=\u001b[39m \u001b[38;5;28mself\u001b[39m\u001b[38;5;241m.\u001b[39m_validate_y_class_weight(y)\n\u001b[1;32m    421\u001b[0m \u001b[38;5;28;01mif\u001b[39;00m \u001b[38;5;28mgetattr\u001b[39m(y, \u001b[38;5;124m\"\u001b[39m\u001b[38;5;124mdtype\u001b[39m\u001b[38;5;124m\"\u001b[39m, \u001b[38;5;28;01mNone\u001b[39;00m) \u001b[38;5;241m!=\u001b[39m DOUBLE \u001b[38;5;129;01mor\u001b[39;00m \u001b[38;5;129;01mnot\u001b[39;00m y\u001b[38;5;241m.\u001b[39mflags\u001b[38;5;241m.\u001b[39mcontiguous:\n\u001b[0;32m--> 422\u001b[0m     y \u001b[38;5;241m=\u001b[39m \u001b[43mnp\u001b[49m\u001b[38;5;241;43m.\u001b[39;49m\u001b[43mascontiguousarray\u001b[49m\u001b[43m(\u001b[49m\u001b[43my\u001b[49m\u001b[43m,\u001b[49m\u001b[43m \u001b[49m\u001b[43mdtype\u001b[49m\u001b[38;5;241;43m=\u001b[39;49m\u001b[43mDOUBLE\u001b[49m\u001b[43m)\u001b[49m\n\u001b[1;32m    424\u001b[0m \u001b[38;5;28;01mif\u001b[39;00m expanded_class_weight \u001b[38;5;129;01mis\u001b[39;00m \u001b[38;5;129;01mnot\u001b[39;00m \u001b[38;5;28;01mNone\u001b[39;00m:\n\u001b[1;32m    425\u001b[0m     \u001b[38;5;28;01mif\u001b[39;00m sample_weight \u001b[38;5;129;01mis\u001b[39;00m \u001b[38;5;129;01mnot\u001b[39;00m \u001b[38;5;28;01mNone\u001b[39;00m:\n",
            "\u001b[0;31mValueError\u001b[0m: could not convert string to float: 'Low'"
          ],
          "output_type": "error"
        }
      ],
      "execution_count": 40
    },
    {
      "id": "4a0a610f-78e3-41bd-86b7-3b6e9d557f51",
      "cell_type": "code",
      "source": "# -----------------------------\n# GRADIENT BOOSTING\n# -----------------------------\ngb_model = Pipeline([\n    (\"prep\", preprocess),\n    (\"gb\", GradientBoostingRegressor(\n        n_estimators=800,\n        learning_rate=0.05,\n        max_depth=6,\n        random_state=42\n    ))\n])\n\ngb_model.fit(X_train, y_train)\ny_pred_gb = gb_model.predict(X_test)\n\nprint(\"\\n=== GRADIENT BOOSTING ===\")\nprint(\"R²:\", r2_score(y_test, y_pred_gb))\nprint(\"MAE:\", mean_absolute_error(y_test, y_pred_gb))\nprint(\"RMSE:\", np.sqrt(mean_squared_error(y_test, y_pred_gb)))",
      "metadata": {
        "trusted": true
      },
      "outputs": [
        {
          "name": "stdout",
          "output_type": "stream",
          "text": "\n=== GRADIENT BOOSTING ===\nR²: 0.953134286964665\nMAE: 249.00234103558725\nRMSE: 506.2553130697868\n"
        }
      ],
      "execution_count": 34
    },
    {
      "id": "49503f38-6af6-40cd-b2d0-4d9ef8e9d69c",
      "cell_type": "code",
      "source": "y_class = pd.qcut(y, q=3, labels=[\"Low\", \"Medium\", \"High\"])  # 3 bins",
      "metadata": {
        "trusted": true
      },
      "outputs": [],
      "execution_count": 35
    },
    {
      "id": "376783e8-47ca-47e3-824b-1b968e909b2b",
      "cell_type": "code",
      "source": "# Train-test split with classification target\nX_train, X_test, y_train, y_test = train_test_split(\n    X, y_class, test_size=0.2, random_state=42\n)\n",
      "metadata": {
        "trusted": true
      },
      "outputs": [],
      "execution_count": 36
    },
    {
      "id": "8beb72a4-c8c1-4e8a-83f3-fde39ed1dc51",
      "cell_type": "code",
      "source": "from sklearn.ensemble import RandomForestClassifier, GradientBoostingClassifier\nfrom sklearn.metrics import accuracy_score, f1_score",
      "metadata": {
        "trusted": true
      },
      "outputs": [],
      "execution_count": 37
    },
    {
      "id": "b778d7ca-83a6-4c1b-9646-7e90ea7b6ffb",
      "cell_type": "code",
      "source": "# Random Forest Classifier\nclf = Pipeline([\n    (\"prep\", preprocess),\n    (\"rf\", RandomForestClassifier(n_estimators=500, max_depth=20, random_state=42, n_jobs=-1))\n])\n\nclf.fit(X_train, y_train)\ny_pred = clf.predict(X_test)\n\nprint(\"\\n=== CLASSIFICATION METRICS ===\")\nprint(\"Accuracy:\", accuracy_score(y_test, y_pred))\nprint(\"F1-score:\", f1_score(y_test, y_pred, average=\"weighted\"))",
      "metadata": {
        "trusted": true
      },
      "outputs": [
        {
          "name": "stdout",
          "output_type": "stream",
          "text": "\n=== CLASSIFICATION METRICS ===\nAccuracy: 0.891\nF1-score: 0.8893017556538021\n"
        }
      ],
      "execution_count": 38
    },
    {
      "id": "f644c081-739e-4656-bf08-d8137fc97880",
      "cell_type": "code",
      "source": "",
      "metadata": {
        "trusted": true
      },
      "outputs": [],
      "execution_count": null
    }
  ]
}